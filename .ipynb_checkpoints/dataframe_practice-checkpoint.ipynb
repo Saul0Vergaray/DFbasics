{
 "cells": [
  {
   "cell_type": "markdown",
   "id": "a50a55e4",
   "metadata": {},
   "source": [
    "# DataFrame Basics - Practice\n",
    "\n",
    "In this lab, you'll practice basics dataframe methods to maniuplate dataframes. If you have any questions please USE THE QUEUE!"
   ]
  },
  {
   "cell_type": "markdown",
   "id": "cc36993e",
   "metadata": {},
   "source": [
    "First, use the cell below to import pandas."
   ]
  },
  {
   "cell_type": "code",
   "execution_count": 1,
   "id": "a05ca880",
   "metadata": {},
   "outputs": [],
   "source": [
    "# import pandas\n",
    "import pandas as pd"
   ]
  },
  {
   "cell_type": "markdown",
   "id": "a7c61bdf",
   "metadata": {},
   "source": [
    "Create a variable named \"raw_df\" to hold your dataframe. Load the \"titanic.csv\" into the dataframe."
   ]
  },
  {
   "cell_type": "code",
   "execution_count": 3,
   "id": "9b977075",
   "metadata": {},
   "outputs": [
    {
     "ename": "AttributeError",
     "evalue": "module 'pandas' has no attribute 'read'",
     "output_type": "error",
     "traceback": [
      "\u001b[0;31m---------------------------------------------------------------------------\u001b[0m",
      "\u001b[0;31mAttributeError\u001b[0m                            Traceback (most recent call last)",
      "\u001b[0;32m/var/folders/tt/h9wl768d55jd_mknkzx2mnrh0000gn/T/ipykernel_5251/3376612347.py\u001b[0m in \u001b[0;36m<module>\u001b[0;34m\u001b[0m\n\u001b[1;32m      1\u001b[0m \u001b[0;31m# create a dataframe from the titanic dataset named \"raw_df\"\u001b[0m\u001b[0;34m\u001b[0m\u001b[0;34m\u001b[0m\u001b[0m\n\u001b[0;32m----> 2\u001b[0;31m \u001b[0mdf\u001b[0m \u001b[0;34m=\u001b[0m \u001b[0mpd\u001b[0m\u001b[0;34m.\u001b[0m\u001b[0mread\u001b[0m\u001b[0;34m(\u001b[0m\u001b[0;34m'titanic.csv'\u001b[0m\u001b[0;34m)\u001b[0m\u001b[0;34m\u001b[0m\u001b[0;34m\u001b[0m\u001b[0m\n\u001b[0m",
      "\u001b[0;32m~/opt/anaconda3/lib/python3.9/site-packages/pandas/__init__.py\u001b[0m in \u001b[0;36m__getattr__\u001b[0;34m(name)\u001b[0m\n\u001b[1;32m    242\u001b[0m         \u001b[0;32mreturn\u001b[0m \u001b[0m_SparseArray\u001b[0m\u001b[0;34m\u001b[0m\u001b[0;34m\u001b[0m\u001b[0m\n\u001b[1;32m    243\u001b[0m \u001b[0;34m\u001b[0m\u001b[0m\n\u001b[0;32m--> 244\u001b[0;31m     \u001b[0;32mraise\u001b[0m \u001b[0mAttributeError\u001b[0m\u001b[0;34m(\u001b[0m\u001b[0;34mf\"module 'pandas' has no attribute '{name}'\"\u001b[0m\u001b[0;34m)\u001b[0m\u001b[0;34m\u001b[0m\u001b[0;34m\u001b[0m\u001b[0m\n\u001b[0m\u001b[1;32m    245\u001b[0m \u001b[0;34m\u001b[0m\u001b[0m\n\u001b[1;32m    246\u001b[0m \u001b[0;34m\u001b[0m\u001b[0m\n",
      "\u001b[0;31mAttributeError\u001b[0m: module 'pandas' has no attribute 'read'"
     ]
    }
   ],
   "source": [
    "# create a dataframe from the titanic dataset named \"raw_df\"\n",
    "df = pd.read('titanic.csv')"
   ]
  },
  {
   "cell_type": "markdown",
   "id": "62a35ede",
   "metadata": {},
   "source": [
    "In the next few cells, read the #code comment# (green colored text) for instructions on what to write in the cell."
   ]
  },
  {
   "cell_type": "code",
   "execution_count": null,
   "id": "6c9a4415",
   "metadata": {},
   "outputs": [],
   "source": [
    "# look at the first 5 rows of your dataframe\n"
   ]
  },
  {
   "cell_type": "code",
   "execution_count": null,
   "id": "228cbd8f",
   "metadata": {},
   "outputs": [],
   "source": [
    "# look at the last 5 rows of your dataframe\n"
   ]
  },
  {
   "cell_type": "code",
   "execution_count": null,
   "id": "76cea4d2",
   "metadata": {},
   "outputs": [],
   "source": [
    "# print out basic information about your dataframe including number of rows, columns, # of non-null values, and datatypes\n",
    "# (hint: there is one method that does all of this at the same time)\n",
    "\n"
   ]
  },
  {
   "cell_type": "markdown",
   "id": "fd04b863",
   "metadata": {},
   "source": [
    "# Selecting Specific Rows and Columns\n",
    "\n",
    "Now you will practice selecting specific rows and columns in the dataframe. Read the #code comments# in green-colored text and follow the directions to know what to type in the cell. "
   ]
  },
  {
   "cell_type": "code",
   "execution_count": null,
   "id": "43f6d19b",
   "metadata": {},
   "outputs": [],
   "source": [
    "# select the fare column with DOT NOTATION and print it below\n"
   ]
  },
  {
   "cell_type": "code",
   "execution_count": null,
   "id": "23095dd3",
   "metadata": {},
   "outputs": [],
   "source": [
    "# select the Name column with BRACKET NOTATION and print it below\n"
   ]
  },
  {
   "cell_type": "code",
   "execution_count": null,
   "id": "97a69944",
   "metadata": {},
   "outputs": [],
   "source": [
    "# select the Name, Age, and Fare columns in one line using a list within BRACKET NOTATION - print it below\n"
   ]
  },
  {
   "cell_type": "code",
   "execution_count": null,
   "id": "bd7fe559",
   "metadata": {},
   "outputs": [],
   "source": [
    "# select the firt three rows and print them below using sliced indexing\n"
   ]
  },
  {
   "cell_type": "code",
   "execution_count": null,
   "id": "b37a9f40",
   "metadata": {},
   "outputs": [],
   "source": [
    "# using the .iloc() method, select rows 20-30 using sliced indexing\n"
   ]
  },
  {
   "cell_type": "markdown",
   "id": "b981ba10",
   "metadata": {},
   "source": [
    "# Adding and Dropping Columns\n",
    "\n",
    "In this section, you will use the .drop() and .insert() methods in pandas to add and delete columns. If you have questions, you can check the pandas documentation here for help or USE THE QUEUE. \n",
    "\n",
    "Pandas .drop() method - https://pandas.pydata.org/docs/reference/api/pandas.DataFrame.drop.html\n",
    "\n",
    "Pandas .insert() method - https://pandas.pydata.org/docs/reference/api/pandas.DataFrame.insert.html\n",
    "\n",
    "Read the #code comments# in the cells below and follow the instructions to know what to type in the cell."
   ]
  },
  {
   "cell_type": "markdown",
   "id": "4f8df4b5",
   "metadata": {},
   "source": [
    "## Important! Before we beging changing the dataframe, we want to create a copy of the raw data. \n",
    "\n",
    "In the cell below, create a new variable called \"df\" and set it equal to raw_df.copy() - USE THE QUEUE if you have any questions about this."
   ]
  },
  {
   "cell_type": "code",
   "execution_count": null,
   "id": "b6b06f4f",
   "metadata": {},
   "outputs": [],
   "source": [
    "# creates a new dataframe to start working with which is a copy of the raw dataframe\n",
    "\n",
    "\n",
    "# For the rest of the exercise, use this new dataframe to manipulate instead of the raw data"
   ]
  },
  {
   "cell_type": "code",
   "execution_count": null,
   "id": "9e2b7c16",
   "metadata": {},
   "outputs": [],
   "source": [
    "# Drop the \"Cabin\" column from the dataframe (hint: be sure to use inplace=True to make a permanent change on the dataframe)\n",
    "\n",
    "\n",
    "\n",
    "# Use .head() to check if the column was dropped successfully\n",
    "\n"
   ]
  },
  {
   "cell_type": "code",
   "execution_count": null,
   "id": "d5ce06d5",
   "metadata": {},
   "outputs": [],
   "source": [
    "# Drop the \"Embarked\" column from the dataframe (hint: be sure to use inplace=True to make a permanent change on the dataframe)\n",
    "\n",
    "\n",
    "# Use .head() to check if the column was dropped successfully\n",
    "\n"
   ]
  },
  {
   "cell_type": "code",
   "execution_count": null,
   "id": "c60bb39c",
   "metadata": {},
   "outputs": [],
   "source": [
    "# Insert a new column at the beginning of the dataframe. \n",
    "# The column should be named \"Ship.\" Set the column value equal to \"Titanic\"\n",
    "\n",
    "\n",
    "# Use .head() to check that the column was created successfully\n",
    "\n"
   ]
  },
  {
   "cell_type": "code",
   "execution_count": null,
   "id": "c7857089",
   "metadata": {},
   "outputs": [],
   "source": [
    "# Now, add an additional column in between \"Ship\" and \"PassengerId\"\n",
    "# The column should be named \"Port.\" Set the value equal to \"Southhampton\"\n",
    "\n",
    "\n",
    "\n",
    "# Use .head() to check that the column was created successfully\n",
    "\n"
   ]
  },
  {
   "cell_type": "markdown",
   "id": "59487b6f",
   "metadata": {},
   "source": [
    "# Using .rename() and .replace()\n",
    "\n",
    "In this section, you will use .rename() to rename a column and .replace() to replace values in a column. If you need help, please USE THE QUEUE. You can also look through Pandas documentation for examples on how to use the methods. \n",
    "\n",
    ".replace() - https://pandas.pydata.org/docs/reference/api/pandas.DataFrame.replace.html\n",
    "\n",
    ".rename() - https://pandas.pydata.org/docs/reference/api/pandas.DataFrame.rename.html\n",
    "\n",
    "Read the #code comments# in the cells below and follow the instructions to know what to type in the cell."
   ]
  },
  {
   "cell_type": "code",
   "execution_count": null,
   "id": "d501ba98",
   "metadata": {},
   "outputs": [],
   "source": [
    "# Use .replace() to replace the values which say \"Southampton\" with \"England\"\n",
    "\n",
    "\n",
    "# Use .head() to check that the values were replaced successfully\n",
    "\n"
   ]
  },
  {
   "cell_type": "code",
   "execution_count": null,
   "id": "ee74b1c0",
   "metadata": {},
   "outputs": [],
   "source": [
    "# The \"SibSp\" column represents the number of siblings a particular passenger had. \n",
    "# Use .rename() to make the column name more descriptive of the value it represents.\n",
    "\n",
    "# Use .head() to check that the column name was changed successfully\n"
   ]
  },
  {
   "cell_type": "code",
   "execution_count": null,
   "id": "329b752c",
   "metadata": {},
   "outputs": [],
   "source": [
    "# Use .rename() to change the \"PassengerId\" column to \"passenger_id\"\n",
    "\n",
    "# Use .head() to check that the column name was changed successfully\n"
   ]
  },
  {
   "cell_type": "code",
   "execution_count": null,
   "id": "6def8539",
   "metadata": {},
   "outputs": [],
   "source": [
    "# Use .rename() to change the \"Pclass\" column to \"class\"\n",
    "\n",
    "\n",
    "# Use .head() to check that the column name was changed successfully\n"
   ]
  },
  {
   "cell_type": "markdown",
   "id": "8c79e191",
   "metadata": {},
   "source": [
    "# Using basic python string methods on the dataframe\n",
    "\n",
    "In this section, you will use .upper() and .lower() to practice manipulating the column letter casing.\n",
    "\n",
    "To do this, you will have to select all columns of the dataframe and reassign them to the column names with a string operation on the end. It will look like this:\n",
    "\n",
    "```df.columns = df.columns.str.upper()```"
   ]
  },
  {
   "cell_type": "code",
   "execution_count": null,
   "id": "1e5e106e",
   "metadata": {},
   "outputs": [],
   "source": [
    "# Copy the cell above to see what happens when we invoke the .upper() string method on the column names\n",
    "\n",
    "# use .head() to see the results\n"
   ]
  },
  {
   "cell_type": "code",
   "execution_count": null,
   "id": "9df3ce92",
   "metadata": {},
   "outputs": [],
   "source": [
    "# Using the same syntax, now make the column names all lower case.\n",
    "\n",
    "# use .head() to see the results\n"
   ]
  },
  {
   "cell_type": "code",
   "execution_count": null,
   "id": "a3802069",
   "metadata": {},
   "outputs": [],
   "source": []
  }
 ],
 "metadata": {
  "kernelspec": {
   "display_name": "Python 3 (ipykernel)",
   "language": "python",
   "name": "python3"
  },
  "language_info": {
   "codemirror_mode": {
    "name": "ipython",
    "version": 3
   },
   "file_extension": ".py",
   "mimetype": "text/x-python",
   "name": "python",
   "nbconvert_exporter": "python",
   "pygments_lexer": "ipython3",
   "version": "3.9.7"
  }
 },
 "nbformat": 4,
 "nbformat_minor": 5
}
